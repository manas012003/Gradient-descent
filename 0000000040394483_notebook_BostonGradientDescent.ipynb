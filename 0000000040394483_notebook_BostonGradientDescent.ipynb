{
 "cells": [
  {
   "cell_type": "code",
   "execution_count": 1,
   "metadata": {},
   "outputs": [],
   "source": [
    "import numpy as np"
   ]
  },
  {
   "cell_type": "code",
   "execution_count": 2,
   "metadata": {},
   "outputs": [],
   "source": [
    "import matplotlib.pyplot as plt\n",
    "from IPython.display import clear_output"
   ]
  },
  {
   "cell_type": "code",
   "execution_count": 3,
   "metadata": {},
   "outputs": [],
   "source": [
    "data = np.loadtxt(\"training_boston_x_y_train.csv\", delimiter = \",\")"
   ]
  },
  {
   "cell_type": "code",
   "execution_count": 4,
   "metadata": {},
   "outputs": [],
   "source": [
    "X = data[:,0:13]\n",
    "Y = data[:,13]"
   ]
  },
  {
   "cell_type": "code",
   "execution_count": 5,
   "metadata": {},
   "outputs": [
    {
     "data": {
      "text/plain": [
       "array([[-0.40784991, -0.48772236, -1.2660231 , ..., -0.30309415,\n",
       "         0.41057102, -1.09799011],\n",
       "       [-0.40737368, -0.48772236,  0.24705682, ...,  0.1130321 ,\n",
       "         0.29116915, -0.52047412],\n",
       "       [ 0.1251786 , -0.48772236,  1.01599907, ...,  0.80657583,\n",
       "        -3.79579542,  0.89107588],\n",
       "       ...,\n",
       "       [-0.40831101, -0.48772236,  0.24705682, ...,  0.1130321 ,\n",
       "         0.33206621, -0.33404299],\n",
       "       [-0.41061997, -0.48772236, -1.15221381, ..., -0.71922039,\n",
       "         0.203235  , -0.74475218],\n",
       "       [ 0.34290895, -0.48772236,  1.01599907, ...,  0.80657583,\n",
       "         0.38787479, -1.35871335]])"
      ]
     },
     "execution_count": 5,
     "metadata": {},
     "output_type": "execute_result"
    }
   ],
   "source": [
    "X"
   ]
  },
  {
   "cell_type": "code",
   "execution_count": 6,
   "metadata": {},
   "outputs": [
    {
     "data": {
      "text/plain": [
       "((379, 13), (379,))"
      ]
     },
     "execution_count": 6,
     "metadata": {},
     "output_type": "execute_result"
    }
   ],
   "source": [
    "X.shape, Y.shape"
   ]
  },
  {
   "cell_type": "code",
   "execution_count": 7,
   "metadata": {},
   "outputs": [],
   "source": [
    "X_ = np.append(X, np.ones(X.shape[0]).reshape(-1,1), axis=1)"
   ]
  },
  {
   "cell_type": "code",
   "execution_count": 8,
   "metadata": {},
   "outputs": [
    {
     "data": {
      "text/plain": [
       "(379, 14)"
      ]
     },
     "execution_count": 8,
     "metadata": {},
     "output_type": "execute_result"
    }
   ],
   "source": [
    "X_.shape"
   ]
  },
  {
   "cell_type": "code",
   "execution_count": 9,
   "metadata": {},
   "outputs": [],
   "source": [
    "def cost(X_train, m, Y_train):\n",
    "    cost_=0\n",
    "    N = X_train.shape[0]\n",
    "    for i in range(N):\n",
    "        cost_+= (1/N)*((Y_train[i]-((X_train[i]*m).sum()))**2)\n",
    "    return cost_"
   ]
  },
  {
   "cell_type": "code",
   "execution_count": 10,
   "metadata": {},
   "outputs": [],
   "source": [
    "def step_gradient(X_train,Y_train,m,lr):\n",
    "    \n",
    "    slope_m = np.zeros(X_train.shape[1])\n",
    "    N = X_train.shape[0]\n",
    "    \n",
    "    for i in range(N):\n",
    "        slope_m += (2/N)*(Y_train[i]-(m*X_train[i]).sum())*(-X_train[i])\n",
    "        \n",
    "    m = m - (lr * slope_m)\n",
    "    \n",
    "    return m"
   ]
  },
  {
   "cell_type": "code",
   "execution_count": 11,
   "metadata": {},
   "outputs": [],
   "source": [
    "def fit(X_train,Y_train,lr=0.001,epochs=100,verbose=False):\n",
    "    m = np.zeros(X_train.shape[1])\n",
    "    last_m = m\n",
    "    cost_array = []\n",
    "    unit = epochs//100\n",
    "    for i in range(epochs+1):\n",
    "        last_m = m\n",
    "        m = step_gradient(X_train,Y_train,m,lr)\n",
    "        cost_ = cost(X_train,m,Y_train)\n",
    "        \n",
    "        \n",
    "        if verbose and i%unit==0:\n",
    "            print(\"epoch:\",i,\"cost:\",cost_)\n",
    "            cost_array.append(cost_)\n",
    "    \n",
    "\n",
    "    cont = input(\"Do you want to continue?:\")\n",
    "        \n",
    "    while cont==\"y\":\n",
    "        clear_output(wait=True)\n",
    "        epochs = int(input(\"Please enter the number of epochs to continue for:\"))\n",
    "        unit = int(input(\"Please enter the unit point for epochs:\"))\n",
    "        lr_factor = float(input(\"Please enter the decay factor for the learning rate:\"))\n",
    "        lr*=lr_factor\n",
    "        for i in range(epochs+1):\n",
    "            last_m = m\n",
    "            m = step_gradient(X_train,Y_train,m,lr)\n",
    "            cost_ = cost(X_train,m,Y_train)\n",
    "            if verbose and i%unit==0:\n",
    "                print(\"epoch:\",i,\"cost:\",cost_)\n",
    "                cost_array.append(cost_)\n",
    "        cont = input(\"Do you want to continue?:\")\n",
    "        \n",
    "    return m,cost_array"
   ]
  },
  {
   "cell_type": "code",
   "execution_count": 12,
   "metadata": {},
   "outputs": [],
   "source": [
    "def predict(X_test,m):\n",
    "    y_pred = []\n",
    "    for i in range(X_test.shape[0]):\n",
    "        y_pred.append((X_test[i]*m).sum())\n",
    "    return np.array(y_pred)"
   ]
  },
  {
   "cell_type": "code",
   "execution_count": 13,
   "metadata": {},
   "outputs": [],
   "source": [
    "def score(Y_true,Y_pred):\n",
    "    u = ((Y_true-Y_pred)**2).sum()\n",
    "    v = ((Y_true-(Y_true.mean()))**2).sum()\n",
    "    return 1-(u/v)"
   ]
  },
  {
   "cell_type": "code",
   "execution_count": 14,
   "metadata": {},
   "outputs": [
    {
     "name": "stdout",
     "output_type": "stream",
     "text": [
      "epoch: 0 cost: 305.53967546632305\n",
      "epoch: 10 cost: 26.035424639196286\n",
      "epoch: 20 cost: 24.05526359128313\n",
      "epoch: 30 cost: 23.72115625347802\n",
      "epoch: 40 cost: 23.60303729356514\n",
      "epoch: 50 cost: 23.54741986623927\n",
      "epoch: 60 cost: 23.517122638574207\n",
      "epoch: 70 cost: 23.499079608798997\n",
      "epoch: 80 cost: 23.487749544693703\n",
      "epoch: 90 cost: 23.4804221040931\n",
      "epoch: 100 cost: 23.47560851802726\n",
      "epoch: 110 cost: 23.47242059705668\n",
      "epoch: 120 cost: 23.470300523451847\n",
      "epoch: 130 cost: 23.46888761376366\n",
      "epoch: 140 cost: 23.467944973060014\n",
      "epoch: 150 cost: 23.467315733110677\n",
      "epoch: 160 cost: 23.46689557990056\n",
      "epoch: 170 cost: 23.466614997225978\n",
      "epoch: 180 cost: 23.46642760762816\n",
      "epoch: 190 cost: 23.466302453222962\n",
      "epoch: 200 cost: 23.46621886309809\n",
      "epoch: 210 cost: 23.466163033053636\n",
      "epoch: 220 cost: 23.46612574385092\n",
      "epoch: 230 cost: 23.466100838119264\n",
      "epoch: 240 cost: 23.466084203377466\n",
      "epoch: 250 cost: 23.466073092890188\n",
      "epoch: 260 cost: 23.46606567209765\n",
      "epoch: 270 cost: 23.466060715683955\n",
      "epoch: 280 cost: 23.466057405250645\n",
      "epoch: 290 cost: 23.46605519418233\n",
      "epoch: 300 cost: 23.46605371738984\n",
      "epoch: 310 cost: 23.466052731026736\n",
      "epoch: 320 cost: 23.46605207222589\n",
      "epoch: 330 cost: 23.466051632206828\n",
      "epoch: 340 cost: 23.466051338314152\n",
      "epoch: 350 cost: 23.466051142020536\n",
      "epoch: 360 cost: 23.466051010914263\n",
      "epoch: 370 cost: 23.466050923347193\n",
      "epoch: 380 cost: 23.466050864860353\n",
      "epoch: 390 cost: 23.466050825796447\n",
      "epoch: 400 cost: 23.46605079970534\n",
      "epoch: 410 cost: 23.466050782278835\n",
      "epoch: 420 cost: 23.46605077063952\n",
      "epoch: 430 cost: 23.466050762865514\n",
      "epoch: 440 cost: 23.466050757673173\n",
      "epoch: 450 cost: 23.466050754205185\n",
      "epoch: 460 cost: 23.466050751888858\n",
      "epoch: 470 cost: 23.46605075034179\n",
      "epoch: 480 cost: 23.46605074930848\n",
      "epoch: 490 cost: 23.466050748618287\n",
      "epoch: 500 cost: 23.46605074815735\n",
      "epoch: 510 cost: 23.46605074784947\n",
      "epoch: 520 cost: 23.46605074764383\n",
      "epoch: 530 cost: 23.46605074750647\n",
      "epoch: 540 cost: 23.466050747414762\n",
      "epoch: 550 cost: 23.46605074735349\n",
      "epoch: 560 cost: 23.466050747312558\n",
      "epoch: 570 cost: 23.466050747285216\n",
      "epoch: 580 cost: 23.46605074726697\n",
      "epoch: 590 cost: 23.466050747254776\n",
      "epoch: 600 cost: 23.46605074724662\n",
      "epoch: 610 cost: 23.46605074724119\n",
      "epoch: 620 cost: 23.46605074723753\n",
      "epoch: 630 cost: 23.466050747235112\n",
      "epoch: 640 cost: 23.466050747233524\n",
      "epoch: 650 cost: 23.466050747232423\n",
      "epoch: 660 cost: 23.46605074723168\n",
      "epoch: 670 cost: 23.466050747231222\n",
      "epoch: 680 cost: 23.4660507472309\n",
      "epoch: 690 cost: 23.466050747230675\n",
      "epoch: 700 cost: 23.466050747230526\n",
      "epoch: 710 cost: 23.466050747230472\n",
      "epoch: 720 cost: 23.466050747230383\n",
      "epoch: 730 cost: 23.466050747230323\n",
      "epoch: 740 cost: 23.466050747230298\n",
      "epoch: 750 cost: 23.46605074723031\n",
      "epoch: 760 cost: 23.466050747230273\n",
      "epoch: 770 cost: 23.466050747230273\n",
      "epoch: 780 cost: 23.466050747230252\n",
      "epoch: 790 cost: 23.46605074723027\n",
      "epoch: 800 cost: 23.46605074723026\n",
      "epoch: 810 cost: 23.466050747230234\n",
      "epoch: 820 cost: 23.46605074723024\n",
      "epoch: 830 cost: 23.46605074723025\n",
      "epoch: 840 cost: 23.46605074723027\n",
      "epoch: 850 cost: 23.466050747230263\n",
      "epoch: 860 cost: 23.466050747230245\n",
      "epoch: 870 cost: 23.466050747230234\n",
      "epoch: 880 cost: 23.466050747230252\n",
      "epoch: 890 cost: 23.46605074723024\n",
      "epoch: 900 cost: 23.466050747230252\n",
      "epoch: 910 cost: 23.46605074723024\n",
      "epoch: 920 cost: 23.466050747230256\n",
      "epoch: 930 cost: 23.466050747230252\n",
      "epoch: 940 cost: 23.46605074723025\n",
      "epoch: 950 cost: 23.466050747230252\n",
      "epoch: 960 cost: 23.46605074723025\n",
      "epoch: 970 cost: 23.46605074723025\n",
      "epoch: 980 cost: 23.466050747230238\n",
      "epoch: 990 cost: 23.466050747230234\n",
      "epoch: 1000 cost: 23.466050747230256\n",
      "Do you want to continue?:n\n",
      "[-9.38080766e-01  7.41034434e-01  1.16915682e-02  7.80873721e-01\n",
      " -2.17455750e+00  2.35429653e+00  1.23338097e-01 -2.95232355e+00\n",
      "  2.53296816e+00 -1.70290370e+00 -2.25151962e+00  5.88354286e-01\n",
      " -4.26368155e+00  2.26772333e+01]\n"
     ]
    }
   ],
   "source": [
    "m, cost_array = fit(X_, Y, epochs=1000,  lr=0.15, verbose=True)\n",
    "print(m)"
   ]
  },
  {
   "cell_type": "code",
   "execution_count": 16,
   "metadata": {},
   "outputs": [
    {
     "data": {
      "image/png": "[encoded data removed]",
      "text/plain": [
       "<Figure size 432x288 with 1 Axes>"
      ]
     },
     "metadata": {
      "needs_background": "light"
     },
     "output_type": "display_data"
    }
   ],
   "source": [
    "plt.plot(cost_array)\n",
    "plt.grid()\n",
    "plt.show()"
   ]
  },
  {
   "cell_type": "code",
   "execution_count": 17,
   "metadata": {},
   "outputs": [
    {
     "data": {
      "text/plain": [
       "(379,)"
      ]
     },
     "execution_count": 17,
     "metadata": {},
     "output_type": "execute_result"
    }
   ],
   "source": [
    "y_pred = predict(X_,m)\n",
    "y_pred.shape"
   ]
  },
  {
   "cell_type": "code",
   "execution_count": 18,
   "metadata": {},
   "outputs": [
    {
     "data": {
      "text/plain": [
       "0.7331366627280995"
      ]
     },
     "execution_count": 18,
     "metadata": {},
     "output_type": "execute_result"
    }
   ],
   "source": [
    "score(Y,y_pred)"
   ]
  },
  {
   "cell_type": "code",
   "execution_count": 19,
   "metadata": {},
   "outputs": [],
   "source": [
    "X_test = np.loadtxt(\"test_boston_x_test.csv\", delimiter = \",\")"
   ]
  },
  {
   "cell_type": "code",
   "execution_count": 20,
   "metadata": {},
   "outputs": [],
   "source": [
    "X_test_ = np.append(X_test,np.ones(X_test.shape[0]).reshape(-1,1),axis=1)"
   ]
  },
  {
   "cell_type": "code",
   "execution_count": 21,
   "metadata": {},
   "outputs": [
    {
     "data": {
      "text/plain": [
       "(127, 14)"
      ]
     },
     "execution_count": 21,
     "metadata": {},
     "output_type": "execute_result"
    }
   ],
   "source": [
    "X_test_.shape"
   ]
  },
  {
   "cell_type": "code",
   "execution_count": 22,
   "metadata": {},
   "outputs": [],
   "source": [
    "y_pred_test = predict(X_test_,m)"
   ]
  },
  {
   "cell_type": "code",
   "execution_count": 23,
   "metadata": {},
   "outputs": [
    {
     "data": {
      "text/plain": [
       "array([12.43328344, 29.03367318, 22.37164455, 24.47778655, 20.60166977,\n",
       "        2.72533175, 30.40000409, 24.86120042, 18.65724977, 23.53985837,\n",
       "       24.11396872, 17.71143854, 17.44000298, 21.65356278, 42.31137694,\n",
       "       23.84974493, 24.47573232, 27.53872655, 20.23606694, 31.15155454,\n",
       "       23.78237905, 25.00979443, 33.95768541, 36.43515649, 32.04098329,\n",
       "       16.71322632, 23.47176611, 32.93828009, 25.1807008 , 33.71008685,\n",
       "       16.88580202, 26.02760837, 23.27040025, 25.47758968, 15.00946631,\n",
       "       29.5857494 , 26.24821245, 20.37245654, 24.43681498,  9.44706894,\n",
       "        8.38096654, 29.01392345, 29.59085403, 19.7575697 , 20.3719679 ,\n",
       "        3.14442625, 39.52420118, 25.71741222, 30.37729627, 16.79453264,\n",
       "       17.89088652, 41.02574533, 17.57238787, 20.89662584, 15.59837696,\n",
       "       21.41394912, 18.4543645 , 23.15576391, 13.67245022, 17.23573882,\n",
       "       15.02710365, 29.15131353, 25.17166387, 25.49749375, 17.21186687,\n",
       "       17.42936995, 34.70372763, 17.01340803, 27.10724289, 22.54695733,\n",
       "       29.25336918, 27.11018136, 17.73402192,  5.74704758, 36.87653876,\n",
       "       25.09193905, 30.15053651, 27.24080949, 16.2521844 , 32.63542161,\n",
       "       19.2735139 , 22.65416762, 22.22935077,  8.55084956, 17.33054362,\n",
       "       29.17591713, 27.20836198,  5.88576932, 21.91465625, 20.1154985 ,\n",
       "       22.17673963, 20.52700516, 20.85181227, 13.18132049, 19.69404919,\n",
       "       25.9866677 , 40.27067742, 19.77706447, 33.70256573, 27.22074149,\n",
       "       28.74517137, 22.11543887, 25.9135196 , 31.30678414, 17.15297459,\n",
       "       26.37137846, 21.44656977, 36.73924504, 22.08272915, 16.70906176,\n",
       "       27.59458133, -0.05974722, 13.86188046, 16.28772152, 35.77134424,\n",
       "       20.85214459, 20.77286833, 25.35136054, 21.78782121, 18.84720303,\n",
       "       13.5148908 , 35.61958302, 23.09139597, 25.01812898, 17.46493171,\n",
       "       20.73709865, 14.72993727])"
      ]
     },
     "execution_count": 23,
     "metadata": {},
     "output_type": "execute_result"
    }
   ],
   "source": [
    "y_pred_test"
   ]
  },
  {
   "cell_type": "code",
   "execution_count": 24,
   "metadata": {},
   "outputs": [],
   "source": [
    "np.savetxt('bostngradientpred.csv',y_pred_test)"
   ]
  },
  {
   "cell_type": "code",
   "execution_count": null,
   "metadata": {},
   "outputs": [],
   "source": []
  }
 ],
 "metadata": {
  "kernelspec": {
   "display_name": "Python 3",
   "language": "python",
   "name": "python3"
  },
  "language_info": {
   "codemirror_mode": {
    "name": "ipython",
    "version": 3
   },
   "file_extension": ".py",
   "mimetype": "text/x-python",
   "name": "python",
   "nbconvert_exporter": "python",
   "pygments_lexer": "ipython3",
   "version": "3.8.8"
  }
 },
 "nbformat": 4,
 "nbformat_minor": 4
}
